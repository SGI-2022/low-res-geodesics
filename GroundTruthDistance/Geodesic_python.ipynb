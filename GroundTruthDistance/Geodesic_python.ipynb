{
 "cells": [
  {
   "cell_type": "code",
   "execution_count": 8,
   "id": "e1c6507c-ee69-44a9-afc3-5e33504daa72",
   "metadata": {},
   "outputs": [],
   "source": [
    "import pygeodesic.geodesic as geodesic\n",
    "import potpourri3d as pp3d\n",
    "import numpy as np\n",
    "from datetime import datetime\n",
    "import csv"
   ]
  },
  {
   "cell_type": "code",
   "execution_count": 9,
   "id": "c35dc2ff-c3f7-44de-92b2-855369bad7e0",
   "metadata": {},
   "outputs": [
    {
     "name": "stdout",
     "output_type": "stream",
     "text": [
      "Error reading faces: invalid literal for int() with base 10: ''\n"
     ]
    }
   ],
   "source": [
    "filename = 'C:/Users/jossa/OneDrive - Universidad de Guanajuato\\Documentos/Josue/Demat/Summer schools/SGI MIT 2022/GeodesicDistance/low-res-geodesics-main/data/bunny.txt'\n",
    "result = geodesic.read_mesh_from_file(filename)\n",
    "if result:\n",
    "    points, faces = result\n",
    "geoalg = geodesic.PyGeodesicAlgorithmExact(points, faces)"
   ]
  },
  {
   "cell_type": "code",
   "execution_count": 4,
   "id": "8ae9a400-7b12-4331-a672-ce72ff4e1bdd",
   "metadata": {},
   "outputs": [],
   "source": [
    "# Given the info of the upper block this function creates a matrix with the distances between every two vertex on a CSV file\n",
    "def pairwise_distance_csv(filename):\n",
    "    pairwise_distance=[]\n",
    "    for i in range(len(points)):\n",
    "        source_indices = np.array([i])\n",
    "        target_indices = None\n",
    "        distances, best_source = geoalg.geodesicDistances(source_indices, target_indices)\n",
    "        pairwise_distance.append(distances)\n",
    "\n",
    "    f = open(filename, 'w')\n",
    "\n",
    "    writer = csv.writer(f)\n",
    "\n",
    "    for i in range(len(points)):\n",
    "        writer.writerow(pairwise_distance[i])\n",
    "\n",
    "    f.close()"
   ]
  },
  {
   "cell_type": "code",
   "execution_count": 4,
   "id": "12decb45-1b40-4e43-8521-75fb8ec2f198",
   "metadata": {},
   "outputs": [],
   "source": [
    "# Given the index of the vertex, return a txt file with the distance from the point to every vertex\n",
    "def point_distance(i,filename):\n",
    "    source_indices = np.array([i])\n",
    "    target_indices = None\n",
    "    distances, best_source = geoalg.geodesicDistances(source_indices, target_indices)\n",
    "\n",
    "    with open(filename, 'w') as f:\n",
    "        for line in distances:\n",
    "            f.write(str(line))\n",
    "            f.write('\\n')"
   ]
  },
  {
   "cell_type": "code",
   "execution_count": 5,
   "id": "3ede729b-e2de-4102-8e62-adffcd6c5867",
   "metadata": {},
   "outputs": [],
   "source": [
    "point_distance(69,'camel_distances.txt')"
   ]
  }
 ],
 "metadata": {
  "kernelspec": {
   "display_name": "Python 3 (ipykernel)",
   "language": "python",
   "name": "python3"
  },
  "language_info": {
   "codemirror_mode": {
    "name": "ipython",
    "version": 3
   },
   "file_extension": ".py",
   "mimetype": "text/x-python",
   "name": "python",
   "nbconvert_exporter": "python",
   "pygments_lexer": "ipython3",
   "version": "3.9.12"
  }
 },
 "nbformat": 4,
 "nbformat_minor": 5
}
